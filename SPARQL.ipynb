{
 "cells": [
  {
   "cell_type": "code",
   "execution_count": 1,
   "metadata": {},
   "outputs": [],
   "source": [
    "# Import Libraries\n",
    "from rdflib import Graph\n",
    "import pandas as pd\n",
    "import owlrl"
   ]
  },
  {
   "cell_type": "code",
   "execution_count": 2,
   "metadata": {},
   "outputs": [],
   "source": [
    "#Functions needed for the saving and the reasoning of the graph\n",
    "\n",
    "def saveGraph(graph, file_output):\n",
    "\n",
    "    graph.serialize(destination=file_output, format='ttl')\n",
    "    print(\"Triples including ontology: '\" + str(len(graph)) + \"'.\")\n",
    "\n",
    "def performReasoning(graph, ontology_file):\n",
    "\n",
    "    print(\"Triples including ontology: '\" + str(len(graph)) + \"'.\")\n",
    "    \n",
    "    #We should load the ontology first\n",
    "    graph.load(ontology_file,  format='ttl') #e.g., format=ttl\n",
    "\n",
    "\n",
    "    #We apply reasoning and expand the graph with new triples \n",
    "    owlrl.DeductiveClosure(owlrl.OWLRL_Semantics, axiomatic_triples=False, datatype_axioms=False).expand(graph)\n",
    "\n",
    "    print(\"Triples after OWL 2 RL reasoning: '\" + str(len(graph)) + \"'.\")"
   ]
  },
  {
   "cell_type": "code",
   "execution_count": null,
   "metadata": {},
   "outputs": [],
   "source": [
    "#Initialise a graph\n",
    "g = Graph()\n",
    "\n",
    "# Load the asserted tripples from the KG\n",
    "g.parse(\"cw-data.ttl\", format=\"ttl\")\n",
    "print(\"Loaded '\" + str(len(g)) + \"' triples.\")\n",
    "\n",
    "#perform the reasoning  with the created ontology and save to a new KG in ttl format\n",
    "performReasoning(g,'zdetor.ttl')\n",
    "saveGraph(g, 'cw-data-reasoned.ttl')"
   ]
  },
  {
   "cell_type": "code",
   "execution_count": 3,
   "metadata": {},
   "outputs": [
    {
     "name": "stdout",
     "output_type": "stream",
     "text": [
      "Loaded '77867' triples.\n"
     ]
    }
   ],
   "source": [
    "# Same as above but skipping the reasoning part (i.e. loaded the ttl after the reasoning)\n",
    "g = Graph()\n",
    "g.parse(\"cw-data-reasoned.ttl\", format=\"ttl\")\n",
    "print(\"Loaded '\" + str(len(g)) + \"' triples.\")"
   ]
  },
  {
   "cell_type": "markdown",
   "metadata": {},
   "source": [
    "## Subtask SPARQL.2 \n",
    "Return all the details of the restaurants that sell pizzas without tomate (i.e., pizza bianca). Return the results as a CSV file (20%)."
   ]
  },
  {
   "cell_type": "code",
   "execution_count": 4,
   "metadata": {},
   "outputs": [
    {
     "name": "stdout",
     "output_type": "stream",
     "text": [
      "70\n"
     ]
    }
   ],
   "source": [
    "qres = g.query(\n",
    "\"\"\"\n",
    "SELECT ?pizzaName ?description ?name ?addressLine\n",
    "WHERE{\n",
    "        ?pizza a zdetor:Pizza;\n",
    "                zdetor:name ?pizzaName;\n",
    "                zdetor:isMenuItemOf ?restaurant;\n",
    "                zdetor:description ?description.\n",
    "        ?restaurant zdetor:name ?name;\n",
    "                    zdetor:hasAddress [ zdetor:addressLine ?addressLine] .\n",
    "    FILTER (regex(LCASE(?pizzaName), \\\"white\\\") || regex(LCASE(?pizzaName), \\\"bianca\\\") || regex(LCASE(?pizzaName), \\\"bianco\\\") ).\n",
    "#    FILTER NOT EXISTS {\n",
    "#        FILTER regex(?description, \\\"tomato\\\").\n",
    "#    }\n",
    "}\n",
    "\n",
    "\"\"\")\n",
    "\n",
    "print(len(qres))\n",
    "\n",
    "#Single row with one boolean vale\n",
    "temp = []\n",
    "for row in qres:\n",
    "    element = {}\n",
    "    element['name'] = str(row.name)\n",
    "    element['addressLine'] = str(row.addressLine)\n",
    "    element['pizzaName'] = str(row.pizzaName)\n",
    "    element['description'] = str(row.description)\n",
    "    temp.append(element)\n",
    "\n",
    "new_temp = pd.DataFrame(temp)\n",
    "new_temp.to_csv(\"Results_4.csv\")\n",
    "# new_temp"
   ]
  },
  {
   "cell_type": "markdown",
   "metadata": {},
   "source": [
    "## Subtask SPARQL.3 \n",
    "Return the average prize of a Margherita pizza (20%)."
   ]
  },
  {
   "cell_type": "code",
   "execution_count": 5,
   "metadata": {},
   "outputs": [
    {
     "name": "stdout",
     "output_type": "stream",
     "text": [
      "1\n",
      "The average price for the Margherita Pizza is: $12.6\n"
     ]
    }
   ],
   "source": [
    "qres = g.query(\n",
    "\"\"\"\n",
    "SELECT (sum(?price)/count(?pizza) as ?averagePrice)\n",
    "WHERE{\n",
    "        ?pizza  a zdetor:MargheritaPizza;\n",
    "                zdetor:price ?price;\n",
    "                zdetor:isMenuItemOf [ zdetor:hasAddress [ zdetor:addressLine ?addressLine] ] .\n",
    "}\n",
    "#GROUP BY ?pizza ?addressLine\n",
    "\n",
    "\"\"\")\n",
    "\n",
    "print(len(qres))\n",
    "\n",
    "# #Single row with one boolean vale\n",
    "for row in qres:\n",
    "    print(f\"The average price for the Margherita Pizza is: ${str(round(float(row.averagePrice),2))}\")"
   ]
  },
  {
   "cell_type": "markdown",
   "metadata": {},
   "source": [
    "## Subtask SPARQL.4 \n",
    "Return number of restaurants by city, sorted by state and number\n",
    "of restaurants (20%)."
   ]
  },
  {
   "cell_type": "code",
   "execution_count": 6,
   "metadata": {},
   "outputs": [
    {
     "name": "stdout",
     "output_type": "stream",
     "text": [
      "674\n"
     ]
    }
   ],
   "source": [
    "qres = g.query(\n",
    "\"\"\"\n",
    "SELECT ?cityName ?state (count(?restaurant) as ?num_of_restaurants)\n",
    "WHERE{\n",
    "        ?restaurant a zdetor:Restaurant;\n",
    "                    zdetor:hasAddress ?address .\n",
    "        ?address    zdetor:hasCity ?city .\n",
    "        ?city zdetor:name ?cityName .\n",
    "        \n",
    "        OPTIONAL {?address  zdetor:hasState [ zdetor:name ?state] .}\n",
    "}\n",
    "GROUP BY ?cityName\n",
    "ORDER BY ?state ?cityName\n",
    "\n",
    "\"\"\")\n",
    "\n",
    "print(len(qres))\n",
    "\n",
    "#Single row with one boolean vale\n",
    "temp = []\n",
    "for row in qres:\n",
    "    element = {}\n",
    "    element['num_of_restaurants'] = str(row.num_of_restaurants)\n",
    "    element['cityName'] = str(row.cityName)\n",
    "    element['state'] = str(row.state)\n",
    "    temp.append(element)\n",
    "\n",
    "new_temp = pd.DataFrame(temp)\n",
    "new_temp.to_csv(\"Results_4.csv\")\n",
    "# new_temp"
   ]
  },
  {
   "cell_type": "markdown",
   "metadata": {},
   "source": [
    "## Subtask SPARQL.5 Return the list of restaurants with missing postcode (20%)."
   ]
  },
  {
   "cell_type": "code",
   "execution_count": 7,
   "metadata": {},
   "outputs": [
    {
     "name": "stdout",
     "output_type": "stream",
     "text": [
      "14\n"
     ]
    }
   ],
   "source": [
    "qres = g.query(\n",
    "\"\"\"\n",
    "SELECT ?restaurant ?restaurantName ?postCode\n",
    "WHERE{\n",
    "        ?restaurant a zdetor:Restaurant;\n",
    "                    zdetor:hasAddress ?address ;\n",
    "                    zdetor:name ?restaurantName .\n",
    "        ?address    zdetor:hasCity ?city .\n",
    "        OPTIONAL {?address  zdetor:postCode ?postCode .}\n",
    "        \n",
    "        FILTER( !bound( ?postCode ) )\n",
    "}\n",
    "\n",
    "\"\"\")\n",
    "\n",
    "print(len(qres))\n",
    "\n",
    "#Single row with one boolean vale\n",
    "temp = []\n",
    "for row in qres:\n",
    "    element = {}\n",
    "    element['restaurant'] = str(row.restaurant)\n",
    "    element['restaurantName'] = str(row.restaurantName)\n",
    "    element['postCode'] = str(row.postCode)\n",
    "    temp.append(element)\n",
    "\n",
    "new_temp = pd.DataFrame(temp)\n",
    "new_temp.to_csv(\"Results_5.csv\")\n",
    "# new_temp"
   ]
  },
  {
   "cell_type": "code",
   "execution_count": null,
   "metadata": {},
   "outputs": [],
   "source": []
  },
  {
   "cell_type": "code",
   "execution_count": null,
   "metadata": {},
   "outputs": [],
   "source": []
  }
 ],
 "metadata": {
  "kernelspec": {
   "display_name": "Python 3",
   "language": "python",
   "name": "python3"
  },
  "language_info": {
   "codemirror_mode": {
    "name": "ipython",
    "version": 3
   },
   "file_extension": ".py",
   "mimetype": "text/x-python",
   "name": "python",
   "nbconvert_exporter": "python",
   "pygments_lexer": "ipython3",
   "version": "3.7.3"
  }
 },
 "nbformat": 4,
 "nbformat_minor": 2
}
