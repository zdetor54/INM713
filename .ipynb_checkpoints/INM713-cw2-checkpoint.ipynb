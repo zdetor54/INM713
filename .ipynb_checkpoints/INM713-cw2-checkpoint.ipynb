{
 "cells": [
  {
   "cell_type": "markdown",
   "metadata": {},
   "source": [
    "### Project: INM713-coursework\n",
    "**Author**: Zac Detorakis (zacharias.detorakis@city.ac.uk)\n",
    "\n",
    "**Version**: 1.0<br>\n",
    "**Date**: 15/03/2021"
   ]
  },
  {
   "cell_type": "code",
   "execution_count": 1,
   "metadata": {},
   "outputs": [],
   "source": [
    "# Import Libraries\n",
    "from rdflib import Graph\n",
    "from rdflib import URIRef, BNode, Literal\n",
    "from rdflib import Namespace\n",
    "from rdflib.namespace import OWL, RDF, RDFS, FOAF, XSD\n",
    "# from rdflib.util import guess_format\n",
    "import pandas as pd\n",
    "import math\n",
    "from SPARQLWrapper import SPARQLWrapper, JSON\n",
    "from stringcmp import isub\n",
    "from lookup import DBpediaLookup\n",
    "# import csv\n",
    "\n",
    "# import owlrl\n"
   ]
  },
  {
   "cell_type": "code",
   "execution_count": 2,
   "metadata": {},
   "outputs": [],
   "source": [
    "class FinalCoursework(object):\n",
    "    \"\"\"\n",
    "    This will contain the solution for the coursework for the SW&KGT\n",
    "    \"\"\"\n",
    "    \n",
    "    def __init__(self, input_csv):\n",
    "        \n",
    "        # The file containing the data to load in the KG\n",
    "        self.file = input_csv\n",
    "        \n",
    "        #Intialise the KG\n",
    "        self.g = Graph()\n",
    "        \n",
    "        #setup the ontology IRI used for the courseworkontology..\n",
    "        self.zdetor_ns_str= \"https://www.city.ac.uk/ds/inm713/zacharias_detorakis/\"\n",
    "        #Special namspaces class to create directly URIRefs in python.           \n",
    "        self.zdetor = Namespace(self.zdetor_ns_str)\n",
    "        #Prefixes for the serialization\n",
    "        self.g.bind(\"zdetor\", self.zdetor)\n",
    "        \n",
    "        self.classStringToURI = dict()\n",
    "        \n",
    "        \n",
    "        #read the raw data into a dataframe\n",
    "#         self.df = pd.read_csv(filepath_or_buffer = self.file, sep=',', quotechar='\"',escapechar=\"\\\\\")\n",
    "        self.df = []\n",
    "if __name__ == '__main__':\n",
    "    input_csv = \"INM713_coursework_data_pizza_8358_1_reduced.csv\"\n",
    "    input_csv = \"INM713_coursework_data_pizza_8358_1_reduced - small.csv\"\n",
    "    \n",
    "    solution = FinalCoursework(input_csv)\n",
    "    \n",
    "        "
   ]
  },
  {
   "cell_type": "markdown",
   "metadata": {},
   "source": [
    "First of all we need to perform some exploratory data analysis before we start loading the data to ensure the data consistency and perhaps perform a bit of data cleansing.\n",
    "We will start with the address part as that is the easiest one to profile.\n",
    "\n",
    "Given that the addresses are unique per restaurant and then repeated for all menu items of that restaurant we will get a subsection of the df to better assess the extent of problematic records that need fixing. As per our ontology, the address properties are:\n",
    "* address (i.e. representing the address line)\n",
    "* city\n",
    "* country\n",
    "* state and\n",
    "* postcode"
   ]
  },
  {
   "cell_type": "code",
   "execution_count": 3,
   "metadata": {},
   "outputs": [],
   "source": [
    "solution.df = pd.read_csv(filepath_or_buffer = solution.file, sep=',', quotechar='\"',escapechar=\"\\\\\")"
   ]
  },
  {
   "cell_type": "markdown",
   "metadata": {},
   "source": [
    "First we inspect the restaurants and we see that there are more addresses than restaurants. Based on our ontology a restaurant can only be in one address therefore we need to idenditify those restaurant and create a new URI for them."
   ]
  },
  {
   "cell_type": "code",
   "execution_count": 4,
   "metadata": {},
   "outputs": [
    {
     "name": "stdout",
     "output_type": "stream",
     "text": [
      "Number of unique restaurant names: 10\n",
      "Number of unique address lines: 13\n"
     ]
    }
   ],
   "source": [
    "print(f\"Number of unique restaurant names: {len(solution.df.groupby(['name']))}\")\n",
    "print(f\"Number of unique address lines: {len(solution.df.groupby(['name','address']))}\")"
   ]
  },
  {
   "cell_type": "markdown",
   "metadata": {},
   "source": [
    "# DATA PREPROCESSING"
   ]
  },
  {
   "cell_type": "code",
   "execution_count": 5,
   "metadata": {},
   "outputs": [],
   "source": [
    "def findNewRestaurantName(original_value,mapping_dict):\n",
    "    \"\"\"\n",
    "    A function used to map a given value to a new one as defined in the mapping dictionary\n",
    "    ...\n",
    "\n",
    "    Attributes\n",
    "    ----------\n",
    "    original_value : str\n",
    "        the original value to be mapped. In this case this will be the concatenated field (name+address)\n",
    "    mapping_dict : dict\n",
    "        this is a dictionary where the 'key' is the original value and the 'value' is the new value it maps to\n",
    "    \"\"\"\n",
    "    try:\n",
    "        return mapping_dict[original_value]\n",
    "    except:\n",
    "        return 'invalid'\n",
    "\n",
    "def createNewRestaurantNames(original_df):\n",
    "    # group the restaurant by name and filter out any restaurant with exactly one address\n",
    "    df_group = pd.DataFrame(original_df.groupby('name')['address'].nunique())\n",
    "    df_dup_restaurants = df_group[df_group.address>1]\n",
    "\n",
    "    # next we create a new version of the df to add the new name column\n",
    "    new_df = solution.df\n",
    "    # for now populate the column with a concatenation of name and address\n",
    "    new_df['new_name']=new_df.apply(lambda x:'%s_%s' % (x['name'],x['address']),axis=1)\n",
    "\n",
    "    # next we create a termporary dataframe to store the name and concatenated column. drop the duplicates (from the multiple menu items) and sort the df\n",
    "    temp = new_df[['name', 'new_name']].drop_duplicates()\n",
    "    temp.sort_values(by='name',inplace=True)\n",
    "\n",
    "    # finally create a dictionary mappin the concatenated field to a new restaurant name by \n",
    "    # - adding a sequence number at the end of the duplicates or \n",
    "    # - reusing the existing name for restaurants that appear only once\n",
    "    prev_name = ''\n",
    "    incr = 1\n",
    "    new_name_dict = {}\n",
    "    for index, row in temp.iterrows():\n",
    "        if row['name'] == prev_name:\n",
    "            incr += 1\n",
    "        else:\n",
    "            incr = 1\n",
    "\n",
    "        if row['name'] in str(df_dup_restaurants.index):\n",
    "            new_name_dict[row['new_name']]= row['name'] + '___' + str(incr)\n",
    "            prev_name = row['name']\n",
    "        else:\n",
    "            new_name_dict[row['new_name']]= row['name']\n",
    "\n",
    "    # Finally apply the function to map the concatenated field to the new name\n",
    "    new_df['new_name'] = new_df['new_name'].apply(lambda x: findNewRestaurantName(x,new_name_dict))\n",
    "    # new_df.to_csv(\"temp.csv\")\n",
    "    return new_df"
   ]
  },
  {
   "cell_type": "code",
   "execution_count": 6,
   "metadata": {},
   "outputs": [
    {
     "data": {
      "text/html": [
       "<div>\n",
       "<style scoped>\n",
       "    .dataframe tbody tr th:only-of-type {\n",
       "        vertical-align: middle;\n",
       "    }\n",
       "\n",
       "    .dataframe tbody tr th {\n",
       "        vertical-align: top;\n",
       "    }\n",
       "\n",
       "    .dataframe thead th {\n",
       "        text-align: right;\n",
       "    }\n",
       "</style>\n",
       "<table border=\"1\" class=\"dataframe\">\n",
       "  <thead>\n",
       "    <tr style=\"text-align: right;\">\n",
       "      <th></th>\n",
       "      <th>name</th>\n",
       "      <th>address</th>\n",
       "      <th>city</th>\n",
       "      <th>country</th>\n",
       "      <th>postcode</th>\n",
       "      <th>state</th>\n",
       "      <th>categories</th>\n",
       "      <th>menu item</th>\n",
       "      <th>item value</th>\n",
       "      <th>currency</th>\n",
       "      <th>item description</th>\n",
       "      <th>new_name</th>\n",
       "    </tr>\n",
       "  </thead>\n",
       "  <tbody>\n",
       "    <tr>\n",
       "      <th>0</th>\n",
       "      <td>Bertucci's</td>\n",
       "      <td>2929 Berlin Tpke</td>\n",
       "      <td>Newington</td>\n",
       "      <td>US</td>\n",
       "      <td>6111.0</td>\n",
       "      <td>Htfd</td>\n",
       "      <td>Restaurants,Italian Restaurants,Pizza</td>\n",
       "      <td>Any Brick Oven Pizza</td>\n",
       "      <td>NaN</td>\n",
       "      <td>NaN</td>\n",
       "      <td>Small</td>\n",
       "      <td>Bertucci's___1</td>\n",
       "    </tr>\n",
       "    <tr>\n",
       "      <th>1</th>\n",
       "      <td>Bertucci's</td>\n",
       "      <td>2929 Berlin Tpke</td>\n",
       "      <td>Newington</td>\n",
       "      <td>US</td>\n",
       "      <td>6111.0</td>\n",
       "      <td>Htfd</td>\n",
       "      <td>Restaurants,Italian Restaurants,Pizza</td>\n",
       "      <td>Bbq Chicken Pizza</td>\n",
       "      <td>10.99</td>\n",
       "      <td>USD</td>\n",
       "      <td>BBQ chicken marinated in a smoky hickory BBQ s...</td>\n",
       "      <td>Bertucci's___1</td>\n",
       "    </tr>\n",
       "    <tr>\n",
       "      <th>2</th>\n",
       "      <td>Bertucci's</td>\n",
       "      <td>2929 Berlin Tpke</td>\n",
       "      <td>Newington</td>\n",
       "      <td>US</td>\n",
       "      <td>6111.0</td>\n",
       "      <td>Htfd</td>\n",
       "      <td>Restaurants,Italian Restaurants,Pizza</td>\n",
       "      <td>Buffalo Chicken Flatbread Pizza</td>\n",
       "      <td>8.49</td>\n",
       "      <td>USD</td>\n",
       "      <td>Grilled chicken tossed with buffalo sauce. Top...</td>\n",
       "      <td>Bertucci's___1</td>\n",
       "    </tr>\n",
       "    <tr>\n",
       "      <th>3</th>\n",
       "      <td>Bertucci's</td>\n",
       "      <td>2929 Berlin Tpke</td>\n",
       "      <td>Newington</td>\n",
       "      <td>US</td>\n",
       "      <td>6111.0</td>\n",
       "      <td>Htfd</td>\n",
       "      <td>Restaurants,Italian Restaurants,Pizza</td>\n",
       "      <td>Cheese Party Pizza</td>\n",
       "      <td>5.00</td>\n",
       "      <td>USD</td>\n",
       "      <td>NaN</td>\n",
       "      <td>Bertucci's___1</td>\n",
       "    </tr>\n",
       "    <tr>\n",
       "      <th>4</th>\n",
       "      <td>Bertucci's</td>\n",
       "      <td>2929 Berlin Tpke</td>\n",
       "      <td>Newington</td>\n",
       "      <td>US</td>\n",
       "      <td>6111.0</td>\n",
       "      <td>Htfd</td>\n",
       "      <td>Restaurants,Italian Restaurants,Pizza</td>\n",
       "      <td>Cheese Pizza</td>\n",
       "      <td>10.29</td>\n",
       "      <td>USD</td>\n",
       "      <td>NaN</td>\n",
       "      <td>Bertucci's___1</td>\n",
       "    </tr>\n",
       "  </tbody>\n",
       "</table>\n",
       "</div>"
      ],
      "text/plain": [
       "         name           address       city country  postcode state  \\\n",
       "0  Bertucci's  2929 Berlin Tpke  Newington      US    6111.0  Htfd   \n",
       "1  Bertucci's  2929 Berlin Tpke  Newington      US    6111.0  Htfd   \n",
       "2  Bertucci's  2929 Berlin Tpke  Newington      US    6111.0  Htfd   \n",
       "3  Bertucci's  2929 Berlin Tpke  Newington      US    6111.0  Htfd   \n",
       "4  Bertucci's  2929 Berlin Tpke  Newington      US    6111.0  Htfd   \n",
       "\n",
       "                              categories                        menu item  \\\n",
       "0  Restaurants,Italian Restaurants,Pizza             Any Brick Oven Pizza   \n",
       "1  Restaurants,Italian Restaurants,Pizza                Bbq Chicken Pizza   \n",
       "2  Restaurants,Italian Restaurants,Pizza  Buffalo Chicken Flatbread Pizza   \n",
       "3  Restaurants,Italian Restaurants,Pizza               Cheese Party Pizza   \n",
       "4  Restaurants,Italian Restaurants,Pizza                     Cheese Pizza   \n",
       "\n",
       "   item value currency                                   item description  \\\n",
       "0         NaN      NaN                                              Small   \n",
       "1       10.99      USD  BBQ chicken marinated in a smoky hickory BBQ s...   \n",
       "2        8.49      USD  Grilled chicken tossed with buffalo sauce. Top...   \n",
       "3        5.00      USD                                                NaN   \n",
       "4       10.29      USD                                                NaN   \n",
       "\n",
       "         new_name  \n",
       "0  Bertucci's___1  \n",
       "1  Bertucci's___1  \n",
       "2  Bertucci's___1  \n",
       "3  Bertucci's___1  \n",
       "4  Bertucci's___1  "
      ]
     },
     "execution_count": 6,
     "metadata": {},
     "output_type": "execute_result"
    }
   ],
   "source": [
    "createNewRestaurantNames(solution.df).head()"
   ]
  },
  {
   "cell_type": "code",
   "execution_count": 7,
   "metadata": {},
   "outputs": [],
   "source": [
    "# new_df.to_csv(\"temp.csv\")"
   ]
  },
  {
   "cell_type": "code",
   "execution_count": 8,
   "metadata": {},
   "outputs": [
    {
     "name": "stdout",
     "output_type": "stream",
     "text": [
      "\n",
      "\n"
     ]
    }
   ],
   "source": [
    "print(solution.g.serialize(format=\"turtle\").decode(\"utf-8\"))"
   ]
  },
  {
   "cell_type": "markdown",
   "metadata": {},
   "source": [
    "# CREATE TRIPLES"
   ]
  },
  {
   "cell_type": "code",
   "execution_count": 10,
   "metadata": {},
   "outputs": [],
   "source": [
    "def getExternalKGURI(name):\n",
    "    '''\n",
    "    Approximate solution: We get the entity with highest lexical similarity\n",
    "    The use of context may be necessary in some cases        \n",
    "    '''\n",
    "    \n",
    "    dbpedia = DBpediaLookup()\n",
    "    entities = dbpedia.getKGEntities(name, 5)\n",
    "    #print(\"Entities from DBPedia:\")\n",
    "    current_sim = -1\n",
    "    current_uri=''\n",
    "    for ent in entities:           \n",
    "        isub_score = isub(name, ent.label) \n",
    "        if current_sim < isub_score:\n",
    "            current_uri = ent.ident\n",
    "            current_sim = isub_score\n",
    "\n",
    "#     print(current_uri)\n",
    "    return current_uri\n",
    "\n",
    "def mappingToCreateTypeTriple(df, subject_column, class_type, use_external_uri, classStringToURI):\n",
    "    \n",
    "    # First we create a new key for the class with a value of another dictionary\n",
    "    classStringToURI[subject_column] = dict()\n",
    "\n",
    "    # Then we iterate through the rows in the subject column and either reuse an existing URI of contruct it from scratch\n",
    "    for subject in df[subject_column]:\n",
    "\n",
    "        #We use the subject_column value to create the fresh URI if this if the first time we see that value. \n",
    "        # If we've seen the value before we do not do anything since we've already added the tripple to the graph\n",
    "        try:\n",
    "            if subject.lower() not in classStringToURI[subject_column]:\n",
    "                if use_external_uri:\n",
    "                    entity_uri =  getExternalKGURI(subject.lower())\n",
    "                else:\n",
    "                    entity_uri = solution.zdetor_ns_str + subject.replace(\" \", \"_\").replace(\"'\",\"_\").replace(\"&\",\"_\").replace(\"|\",\"_\")\n",
    "                classStringToURI[subject_column][subject.lower()] = entity_uri\n",
    "                #Add the tripple to the KG\n",
    "                solution.g.add((URIRef(entity_uri), RDF.type, class_type))\n",
    "        except:\n",
    "            pass\n",
    "\n",
    "# def CovertCSVToRDF(solution.df):\n",
    "# this is an empty dictionary of the format {'class':{'string': uri}}\n",
    "solution.classStringToURI = dict()\n",
    "\n",
    "if 'new_name' in solution.df:\n",
    "    mappingToCreateTypeTriple(solution.df,'new_name',solution.zdetor.Restaurant, False, solution.classStringToURI)\n",
    "\n",
    "solution.g.bind(\"dpo\", Namespace(\"http://dbpedia.org/resource/\"))\n",
    "if 'city' in solution.df:\n",
    "    mappingToCreateTypeTriple(solution.df,'city',solution.zdetor.City, True, solution.classStringToURI)\n",
    "\n",
    "if 'country' in solution.df:\n",
    "    mappingToCreateTypeTriple(solution.df,'country',solution.zdetor.Country, True, solution.classStringToURI)   "
   ]
  },
  {
   "cell_type": "code",
   "execution_count": 11,
   "metadata": {},
   "outputs": [
    {
     "data": {
      "text/plain": [
       "{'new_name': {\"bertucci's___1\": 'https://www.city.ac.uk/ds/inm713/zacharias_detorakis/Bertucci_s___1',\n",
       "  \"bertucci's___2\": 'https://www.city.ac.uk/ds/inm713/zacharias_detorakis/Bertucci_s___2',\n",
       "  \"bertucci's___3\": 'https://www.city.ac.uk/ds/inm713/zacharias_detorakis/Bertucci_s___3',\n",
       "  \"bertucci's___4\": 'https://www.city.ac.uk/ds/inm713/zacharias_detorakis/Bertucci_s___4',\n",
       "  \"carvalho's brazilian kitchen\": 'https://www.city.ac.uk/ds/inm713/zacharias_detorakis/Carvalho_s_Brazilian_Kitchen',\n",
       "  'rosa mexicano': 'https://www.city.ac.uk/ds/inm713/zacharias_detorakis/Rosa_Mexicano',\n",
       "  'the pizza parlor': 'https://www.city.ac.uk/ds/inm713/zacharias_detorakis/The_Pizza_Parlor',\n",
       "  \"rick's cabaret\": 'https://www.city.ac.uk/ds/inm713/zacharias_detorakis/Rick_s_Cabaret',\n",
       "  \"mighty mick's pub & cafe\": 'https://www.city.ac.uk/ds/inm713/zacharias_detorakis/Mighty_Mick_s_Pub___Cafe',\n",
       "  'prison brews brewery & restaurant': 'https://www.city.ac.uk/ds/inm713/zacharias_detorakis/Prison_Brews_Brewery___Restaurant',\n",
       "  'moonlight cafe': 'https://www.city.ac.uk/ds/inm713/zacharias_detorakis/Moonlight_Cafe',\n",
       "  'guidos': 'https://www.city.ac.uk/ds/inm713/zacharias_detorakis/Guidos',\n",
       "  'country bagel bakery': 'https://www.city.ac.uk/ds/inm713/zacharias_detorakis/Country_Bagel_Bakery'},\n",
       " 'city': {'newington': 'http://dbpedia.org/resource/Stoke_Newington',\n",
       "  'palos hills': 'http://dbpedia.org/resource/Palos_Verdes_Hills',\n",
       "  'manchester': 'http://dbpedia.org/resource/Manchester',\n",
       "  'hazlet': 'http://dbpedia.org/resource/Hazlet_station',\n",
       "  'scottsdale': 'http://dbpedia.org/resource/Scottsdale,_Arizona',\n",
       "  'new york': 'http://dbpedia.org/resource/New_York_City',\n",
       "  'pearland': 'http://dbpedia.org/resource/Pearland,_Texas',\n",
       "  'indianapolis': 'http://dbpedia.org/resource/Indianapolis',\n",
       "  'crown point': 'http://dbpedia.org/resource/Crown_Point,_Oregon',\n",
       "  'jefferson city': 'http://dbpedia.org/resource/Jefferson_City,_Missouri',\n",
       "  'dover': 'http://dbpedia.org/resource/Dover',\n",
       "  'ashland': 'http://dbpedia.org/resource/Ashland,_Ohio',\n",
       "  'west chester': 'http://dbpedia.org/resource/West_Chester_University'},\n",
       " 'country': {'us': 'http://dbpedia.org/resource/United_States'}}"
      ]
     },
     "execution_count": 11,
     "metadata": {},
     "output_type": "execute_result"
    }
   ],
   "source": [
    "solution.classStringToURI"
   ]
  },
  {
   "cell_type": "markdown",
   "metadata": {},
   "source": [
    "# STATE"
   ]
  },
  {
   "cell_type": "code",
   "execution_count": 12,
   "metadata": {},
   "outputs": [
    {
     "name": "stdout",
     "output_type": "stream",
     "text": [
      "There are a total of: 43 restaurant/menu_items\n",
      "There are a total of: 14 restaurants\n"
     ]
    }
   ],
   "source": [
    "# Construct the address dataframe with the columns related to the restaurant addresses. \n",
    "# We'll keep the name column in there just for reference so we can count restaurant with problematic addresses\n",
    "\n",
    "df_address = solution.df[['name','address','city','country','state','postcode']]\n",
    "print(f\"There are a total of: {len(df_address)} restaurant/menu_items\")\n",
    "\n",
    "# remove duplicate rows\n",
    "df_address = df_address.drop_duplicates()\n",
    "print(f\"There are a total of: {len(df_address)} restaurants\")"
   ]
  },
  {
   "cell_type": "code",
   "execution_count": 13,
   "metadata": {},
   "outputs": [
    {
     "data": {
      "text/plain": [
       "US    14\n",
       "Name: country, dtype: int64"
      ]
     },
     "execution_count": 13,
     "metadata": {},
     "output_type": "execute_result"
    }
   ],
   "source": [
    "# Check the country column\n",
    "df_address['country'].value_counts()"
   ]
  },
  {
   "cell_type": "markdown",
   "metadata": {},
   "source": [
    "looks like the country colunn in the specific file is always populated with the country US and doesn't need any cleansing"
   ]
  },
  {
   "cell_type": "code",
   "execution_count": 14,
   "metadata": {},
   "outputs": [
    {
     "name": "stdout",
     "output_type": "stream",
     "text": [
      "There are 13 unique values for state\n",
      "There are 35.71% where the state is not 2 characters long\n",
      "There are 64.29% where the state is exactly 2 characters long\n"
     ]
    }
   ],
   "source": [
    "# Check the state column\n",
    "print(f'There are {len(df_address[\"state\"].unique())} unique values for state')\n",
    "print(f'There are {round((len(df_address[df_address[\"state\"].str.len()>2])/len(df_address))*100,2)}% where the state is not 2 characters long')\n",
    "print(f'There are {round((len(df_address[df_address[\"state\"].str.len()==2])/len(df_address))*100,2)}% where the state is exactly 2 characters long')"
   ]
  },
  {
   "cell_type": "markdown",
   "metadata": {},
   "source": [
    "Given that all the addresses are in the US and our prior knowledge that there are 52 states in the US, the 281 unique values in the state column imply that the column is sometimes used to store other type of information.\n",
    "We can visually inspect this information by checking some of the problematic records"
   ]
  },
  {
   "cell_type": "code",
   "execution_count": 15,
   "metadata": {},
   "outputs": [
    {
     "data": {
      "text/html": [
       "<div>\n",
       "<style scoped>\n",
       "    .dataframe tbody tr th:only-of-type {\n",
       "        vertical-align: middle;\n",
       "    }\n",
       "\n",
       "    .dataframe tbody tr th {\n",
       "        vertical-align: top;\n",
       "    }\n",
       "\n",
       "    .dataframe thead th {\n",
       "        text-align: right;\n",
       "    }\n",
       "</style>\n",
       "<table border=\"1\" class=\"dataframe\">\n",
       "  <thead>\n",
       "    <tr style=\"text-align: right;\">\n",
       "      <th></th>\n",
       "      <th>name</th>\n",
       "      <th>address</th>\n",
       "      <th>city</th>\n",
       "      <th>country</th>\n",
       "      <th>state</th>\n",
       "      <th>postcode</th>\n",
       "    </tr>\n",
       "  </thead>\n",
       "  <tbody>\n",
       "    <tr>\n",
       "      <th>0</th>\n",
       "      <td>Bertucci's</td>\n",
       "      <td>2929 Berlin Tpke</td>\n",
       "      <td>Newington</td>\n",
       "      <td>US</td>\n",
       "      <td>Htfd</td>\n",
       "      <td>6111.0</td>\n",
       "    </tr>\n",
       "    <tr>\n",
       "      <th>19</th>\n",
       "      <td>Rosa Mexicano</td>\n",
       "      <td>1063 1st Ave</td>\n",
       "      <td>New York</td>\n",
       "      <td>US</td>\n",
       "      <td>Manhattan</td>\n",
       "      <td>10022.0</td>\n",
       "    </tr>\n",
       "    <tr>\n",
       "      <th>25</th>\n",
       "      <td>Mighty Mick's Pub &amp; Cafe</td>\n",
       "      <td>10727 Randolph Saint Crown Point In</td>\n",
       "      <td>Crown Point</td>\n",
       "      <td>US</td>\n",
       "      <td>Palmer</td>\n",
       "      <td>46307.0</td>\n",
       "    </tr>\n",
       "    <tr>\n",
       "      <th>26</th>\n",
       "      <td>Prison Brews Brewery &amp; Restaurant</td>\n",
       "      <td>305 Ash St</td>\n",
       "      <td>Jefferson City</td>\n",
       "      <td>US</td>\n",
       "      <td>Honey Creek</td>\n",
       "      <td>65101.0</td>\n",
       "    </tr>\n",
       "    <tr>\n",
       "      <th>33</th>\n",
       "      <td>Moonlight Cafe</td>\n",
       "      <td>4140 Carlisle Rd</td>\n",
       "      <td>Dover</td>\n",
       "      <td>US</td>\n",
       "      <td>Davidsburg</td>\n",
       "      <td>17315.0</td>\n",
       "    </tr>\n",
       "  </tbody>\n",
       "</table>\n",
       "</div>"
      ],
      "text/plain": [
       "                                 name                              address  \\\n",
       "0                          Bertucci's                     2929 Berlin Tpke   \n",
       "19                      Rosa Mexicano                         1063 1st Ave   \n",
       "25           Mighty Mick's Pub & Cafe  10727 Randolph Saint Crown Point In   \n",
       "26  Prison Brews Brewery & Restaurant                           305 Ash St   \n",
       "33                     Moonlight Cafe                     4140 Carlisle Rd   \n",
       "\n",
       "              city country        state  postcode  \n",
       "0        Newington      US         Htfd    6111.0  \n",
       "19        New York      US    Manhattan   10022.0  \n",
       "25     Crown Point      US       Palmer   46307.0  \n",
       "26  Jefferson City      US  Honey Creek   65101.0  \n",
       "33           Dover      US   Davidsburg   17315.0  "
      ]
     },
     "metadata": {},
     "output_type": "display_data"
    }
   ],
   "source": [
    "problematic_state_df = df_address[df_address.state.apply(lambda x: len(str(x))!=2)]\n",
    "display(problematic_state_df.head(10))"
   ]
  },
  {
   "cell_type": "markdown",
   "metadata": {},
   "source": [
    "Indeed some of the values are values of city, some are "
   ]
  },
  {
   "cell_type": "raw",
   "metadata": {},
   "source": []
  },
  {
   "cell_type": "markdown",
   "metadata": {},
   "source": [
    "The above results indicate that for 30% of restaurants we may need to fix the state column"
   ]
  },
  {
   "cell_type": "code",
   "execution_count": 16,
   "metadata": {},
   "outputs": [],
   "source": [
    "# https://solidproject.org/developers/vocabularies/well-known"
   ]
  },
  {
   "cell_type": "code",
   "execution_count": 17,
   "metadata": {},
   "outputs": [],
   "source": [
    "def loadStateISO2UrisFromDBPedia(classStringToURI):\n",
    "    endpoint_url = \"http://dbpedia.org/sparql\"\n",
    "\n",
    "    sparqlw = SPARQLWrapper(endpoint_url)\n",
    "    sparqlw.setReturnFormat(JSON)\n",
    "    \n",
    "    #Create the sparql query to get the URIs for the states from the iso2 state code\n",
    "    state_iso2_query = \"\"\"\n",
    "    SELECT ?state ?iso2StateCode\n",
    "    WHERE {\n",
    "        ?state  dct:subject dbc:States_of_the_United_States;\n",
    "                dbo:postalCode ?iso2StateCode.\n",
    "    FILTER (?iso2StateCode != \"\").\n",
    "    }\n",
    "    \"\"\"\n",
    "    \n",
    "    sparqlw.setQuery(state_iso2_query)\n",
    "    state_results = sparqlw.query().convert()\n",
    "\n",
    "    # create a new key for the states and...\n",
    "    classStringToURI['new_state'] = dict()\n",
    "\n",
    "    # the the code to URI mappings\n",
    "    for state in state_results['results']['bindings']:\n",
    "        classStringToURI['new_state'][state['iso2StateCode']['value']] = state['state']['value']\n",
    "\n",
    "\n",
    "loadStateISO2UrisFromDBPedia(solution.classStringToURI)"
   ]
  },
  {
   "cell_type": "code",
   "execution_count": 24,
   "metadata": {},
   "outputs": [
    {
     "name": "stdout",
     "output_type": "stream",
     "text": [
      "@prefix dpo: <http://dbpedia.org/resource/> .\n",
      "@prefix zdetor: <https://www.city.ac.uk/ds/inm713/zacharias_detorakis/> .\n",
      "\n",
      "<> a zdetor:State .\n",
      "\n",
      "dpo:Arizona a zdetor:State .\n",
      "\n",
      "<http://dbpedia.org/resource/Ashland,_Ohio> a zdetor:City .\n",
      "\n",
      "dpo:Brooklyn a zdetor:State .\n",
      "\n",
      "dpo:Chicago a zdetor:State .\n",
      "\n",
      "<http://dbpedia.org/resource/Crown_Point,_Oregon> a zdetor:City .\n",
      "\n",
      "dpo:Dover a zdetor:City .\n",
      "\n",
      "dpo:Hazlet_station a zdetor:City .\n",
      "\n",
      "dpo:Indianapolis a zdetor:City .\n",
      "\n",
      "<http://dbpedia.org/resource/Jefferson_City,_Missouri> a zdetor:City .\n",
      "\n",
      "dpo:Manchester a zdetor:City .\n",
      "\n",
      "dpo:Minnesota a zdetor:State .\n",
      "\n",
      "dpo:NJ_Transit a zdetor:State .\n",
      "\n",
      "dpo:New_York_City a zdetor:City .\n",
      "\n",
      "<http://dbpedia.org/resource/Norwalk,_Connecticut> a zdetor:State .\n",
      "\n",
      "dpo:Palos_Verdes_Hills a zdetor:City .\n",
      "\n",
      "<http://dbpedia.org/resource/Pearland,_Texas> a zdetor:City .\n",
      "\n",
      "dpo:Pennsylvania a zdetor:State .\n",
      "\n",
      "<http://dbpedia.org/resource/Scottsdale,_Arizona> a zdetor:City .\n",
      "\n",
      "dpo:Stoke_Newington a zdetor:City .\n",
      "\n",
      "dpo:Tennessee a zdetor:State .\n",
      "\n",
      "dpo:Texas a zdetor:State .\n",
      "\n",
      "dpo:United_States a zdetor:Country .\n",
      "\n",
      "dpo:Virginia a zdetor:State .\n",
      "\n",
      "dpo:West_Chester_University a zdetor:City .\n",
      "\n",
      "zdetor:Bertucci_s___1 a zdetor:Restaurant .\n",
      "\n",
      "zdetor:Bertucci_s___2 a zdetor:Restaurant .\n",
      "\n",
      "zdetor:Bertucci_s___3 a zdetor:Restaurant .\n",
      "\n",
      "zdetor:Bertucci_s___4 a zdetor:Restaurant .\n",
      "\n",
      "zdetor:Carvalho_s_Brazilian_Kitchen a zdetor:Restaurant .\n",
      "\n",
      "zdetor:Country_Bagel_Bakery a zdetor:Restaurant .\n",
      "\n",
      "zdetor:Guidos a zdetor:Restaurant .\n",
      "\n",
      "zdetor:Mighty_Mick_s_Pub___Cafe a zdetor:Restaurant .\n",
      "\n",
      "zdetor:Moonlight_Cafe a zdetor:Restaurant .\n",
      "\n",
      "zdetor:Prison_Brews_Brewery___Restaurant a zdetor:Restaurant .\n",
      "\n",
      "zdetor:Rick_s_Cabaret a zdetor:Restaurant .\n",
      "\n",
      "zdetor:Rosa_Mexicano a zdetor:Restaurant .\n",
      "\n",
      "zdetor:The_Pizza_Parlor a zdetor:Restaurant .\n",
      "\n",
      "\n"
     ]
    }
   ],
   "source": [
    "# solution.classStringToURI\n",
    "print(solution.g.serialize(format=\"turtle\").decode(\"utf-8\"))"
   ]
  },
  {
   "cell_type": "code",
   "execution_count": null,
   "metadata": {},
   "outputs": [],
   "source": []
  },
  {
   "cell_type": "code",
   "execution_count": null,
   "metadata": {},
   "outputs": [],
   "source": []
  },
  {
   "cell_type": "code",
   "execution_count": null,
   "metadata": {},
   "outputs": [],
   "source": []
  },
  {
   "cell_type": "code",
   "execution_count": null,
   "metadata": {},
   "outputs": [],
   "source": []
  },
  {
   "cell_type": "code",
   "execution_count": null,
   "metadata": {},
   "outputs": [],
   "source": []
  },
  {
   "cell_type": "code",
   "execution_count": null,
   "metadata": {},
   "outputs": [],
   "source": []
  },
  {
   "cell_type": "code",
   "execution_count": null,
   "metadata": {},
   "outputs": [],
   "source": []
  },
  {
   "cell_type": "code",
   "execution_count": null,
   "metadata": {},
   "outputs": [],
   "source": []
  },
  {
   "cell_type": "code",
   "execution_count": null,
   "metadata": {},
   "outputs": [],
   "source": []
  },
  {
   "cell_type": "code",
   "execution_count": 19,
   "metadata": {},
   "outputs": [],
   "source": [
    "def convertPostCodeStringToPostCodes(post_code):\n",
    "    import re\n",
    "\n",
    "    #create a new empty list for the post codes\n",
    "    post_code_list = []\n",
    "    \n",
    "    #separate the post codes by commas first\n",
    "    separate_val = re.split(r'[,( ]\\s*', post_code.replace(\"- \", \"-\").replace(\"– \",\"–\")) \n",
    "    for val in separate_val:\n",
    "\n",
    "        #the within each value we check if we have a range\n",
    "        if ((val.find('–')>0) or (val.find('-')>0)) :\n",
    "            pc_range = re.split(r'[-–]\\s*', val)\n",
    "#             print(pc_range)\n",
    "            #if we do have a range then we create all the post codes in that range and append them to the list\n",
    "            try:\n",
    "                for pc in range(int(pc_range[0]),int(pc_range[1])+1):\n",
    "                #we append the post codes as strings and if need be we add leading zeros to make the string 5 characters long\n",
    "                    post_code_list.append(str(pc).zfill(5))\n",
    "            except:\n",
    "                pass\n",
    "                    \n",
    "        else:\n",
    "            try:\n",
    "                int(val)\n",
    "                post_code_list.append(val)\n",
    "            except:\n",
    "                pass\n",
    "    return post_code_list\n",
    "\n",
    "def createPostCode2StateMap():\n",
    "    \n",
    "    \n",
    "    #first we create a list of all the post codes and the cities from DBpedia\n",
    "    endpoint_url = \"http://dbpedia.org/sparql\"\n",
    "\n",
    "    sparqlw = SPARQLWrapper(endpoint_url)\n",
    "    sparqlw.setReturnFormat(JSON)\n",
    "\n",
    "    query = \"\"\"\n",
    "    SELECT ?city ?state str(?cityName) ?iso2StateCode ?postCode\n",
    "    WHERE {\n",
    "        ?state  dct:subject dbc:States_of_the_United_States;\n",
    "                dbo:postalCode ?iso2StateCode.\n",
    "        ?city   a dbo:City;\n",
    "                dbo:subdivision ?state;\n",
    "                rdfs:label ?cityName;\n",
    "                dbo:postalCode ?postCode.\n",
    "\n",
    "    FILTER (?iso2StateCode != \"\").\n",
    "    FILTER langMatches( lang(?cityName), \"en\" )\n",
    "    }\n",
    "    \"\"\"\n",
    "    sparqlw.setQuery(query)\n",
    "    results = sparqlw.query().convert()\n",
    "    \n",
    "    #next we create a temporary dictionary with the post code string and the state code. However the post code in this dictionary is sometimes a range or a combination of post codes and ranges\n",
    "    temp_post_dict = dict()\n",
    "    for i in results['results']['bindings']:\n",
    "        temp_post_dict[i['postCode']['value']] = i['iso2StateCode']['value']\n",
    "    \n",
    "    # Finally we reprocess the temp_post_dict post codes so we have extract all the post codes from the ranges and still map them to the same state\n",
    "    postcode_to_state = dict()\n",
    "    for post_code in temp_post_dict.keys():\n",
    "        for pc in convertPostCodeStringToPostCodes(post_code):\n",
    "            postcode_to_state[pc] = temp_post_dict[post_code]\n",
    "    \n",
    "    \n",
    "    # next we create a dictionary with cities and states        \n",
    "    city_to_state = dict()\n",
    "    for row in results['results']['bindings']:\n",
    "        city_to_state[row['callret-2']['value']] = row['iso2StateCode']['value']\n",
    "    \n",
    "    return postcode_to_state, city_to_state\n",
    "\n",
    "def findStateByPostCodeCity(postcode, city, postcode_to_state, city_to_state):\n",
    "    \"\"\"\n",
    "    A function used to map a given post code or city in the US to the respective state. Exact matches are expected instead of lexical similarity\n",
    "    ...\n",
    "\n",
    "    Attributes\n",
    "    ----------\n",
    "    postcode : str\n",
    "        the post code to be mapped\n",
    "    city : str\n",
    "        the city to be mapped. Unlike the post code the city can be matched if it exists as a substring in the dictionary\n",
    "    \"\"\"\n",
    "    \n",
    "    try:\n",
    "        return postcode_to_state[postcode]\n",
    "    except:\n",
    "        try:\n",
    "            lst = [value for key, value in city_to_state.items() if city.lower() in key.lower()]\n",
    "            return max(set(lst), key=lst.count)\n",
    "        except:\n",
    "            pass\n",
    "            \n",
    "\n",
    "postcode_to_state, city_to_state = createPostCode2StateMap()"
   ]
  },
  {
   "cell_type": "code",
   "execution_count": 20,
   "metadata": {},
   "outputs": [
    {
     "data": {
      "text/html": [
       "<div>\n",
       "<style scoped>\n",
       "    .dataframe tbody tr th:only-of-type {\n",
       "        vertical-align: middle;\n",
       "    }\n",
       "\n",
       "    .dataframe tbody tr th {\n",
       "        vertical-align: top;\n",
       "    }\n",
       "\n",
       "    .dataframe thead th {\n",
       "        text-align: right;\n",
       "    }\n",
       "</style>\n",
       "<table border=\"1\" class=\"dataframe\">\n",
       "  <thead>\n",
       "    <tr style=\"text-align: right;\">\n",
       "      <th></th>\n",
       "      <th>name</th>\n",
       "      <th>address</th>\n",
       "      <th>city</th>\n",
       "      <th>country</th>\n",
       "      <th>state</th>\n",
       "      <th>postcode</th>\n",
       "    </tr>\n",
       "  </thead>\n",
       "  <tbody>\n",
       "    <tr>\n",
       "      <th>0</th>\n",
       "      <td>Bertucci's</td>\n",
       "      <td>2929 Berlin Tpke</td>\n",
       "      <td>Newington</td>\n",
       "      <td>US</td>\n",
       "      <td>Htfd</td>\n",
       "      <td>6111.0</td>\n",
       "    </tr>\n",
       "    <tr>\n",
       "      <th>6</th>\n",
       "      <td>Bertucci's</td>\n",
       "      <td>10333 S Roberts Rd</td>\n",
       "      <td>Palos Hills</td>\n",
       "      <td>US</td>\n",
       "      <td>IL</td>\n",
       "      <td>60465.0</td>\n",
       "    </tr>\n",
       "    <tr>\n",
       "      <th>7</th>\n",
       "      <td>Bertucci's</td>\n",
       "      <td>194 Buckland Hills Dr</td>\n",
       "      <td>Manchester</td>\n",
       "      <td>US</td>\n",
       "      <td>CT</td>\n",
       "      <td>6042.0</td>\n",
       "    </tr>\n",
       "    <tr>\n",
       "      <th>12</th>\n",
       "      <td>Bertucci's</td>\n",
       "      <td>2847 State Route 35</td>\n",
       "      <td>Hazlet</td>\n",
       "      <td>US</td>\n",
       "      <td>NJ</td>\n",
       "      <td>NaN</td>\n",
       "    </tr>\n",
       "    <tr>\n",
       "      <th>18</th>\n",
       "      <td>Carvalho's Brazilian Kitchen</td>\n",
       "      <td>23623 N Scottsdale Rd D107</td>\n",
       "      <td>Scottsdale</td>\n",
       "      <td>US</td>\n",
       "      <td>AZ</td>\n",
       "      <td>85255.0</td>\n",
       "    </tr>\n",
       "  </tbody>\n",
       "</table>\n",
       "</div>"
      ],
      "text/plain": [
       "                            name                     address         city  \\\n",
       "0                     Bertucci's            2929 Berlin Tpke    Newington   \n",
       "6                     Bertucci's          10333 S Roberts Rd  Palos Hills   \n",
       "7                     Bertucci's       194 Buckland Hills Dr   Manchester   \n",
       "12                    Bertucci's         2847 State Route 35       Hazlet   \n",
       "18  Carvalho's Brazilian Kitchen  23623 N Scottsdale Rd D107   Scottsdale   \n",
       "\n",
       "   country state  postcode  \n",
       "0       US  Htfd    6111.0  \n",
       "6       US    IL   60465.0  \n",
       "7       US    CT    6042.0  \n",
       "12      US    NJ       NaN  \n",
       "18      US    AZ   85255.0  "
      ]
     },
     "execution_count": 20,
     "metadata": {},
     "output_type": "execute_result"
    }
   ],
   "source": [
    "df_address.head()"
   ]
  },
  {
   "cell_type": "code",
   "execution_count": 21,
   "metadata": {},
   "outputs": [],
   "source": [
    "df_address['new_state'] = df_address.apply(lambda x: x.state if len(x.state)==2 else findStateByPostCodeCity(x.postcode,x.city, postcode_to_state, city_to_state),axis=1)"
   ]
  },
  {
   "cell_type": "code",
   "execution_count": 22,
   "metadata": {},
   "outputs": [
    {
     "name": "stdout",
     "output_type": "stream",
     "text": [
      "Founs: 13, Not found: 1\n"
     ]
    }
   ],
   "source": [
    "def mappingToCreateStateTypeTriple(df, subject_column, class_type, classStringToURI):\n",
    "    \n",
    "    problem = []\n",
    "    found = 0\n",
    "    not_found = 0\n",
    "    # Then we iterate through the rows in the subject column and either reuse an existing URI of contruct it from scratch\n",
    "    for subject in df[subject_column]:\n",
    "\n",
    "        #We use the subject_column value to create the fresh URI if this if the first time we see that value. \n",
    "        # If we've seen the value before we do not do anything since we've already added the tripple to the graph\n",
    "        if subject in classStringToURI[subject_column]:\n",
    "            found += 1\n",
    "        else:\n",
    "            not_found += 1\n",
    "    print(f\"Founs: {found}, Not found: {not_found}\")\n",
    "    return \n",
    "\n",
    "mappingToCreateStateTypeTriple(df_address, 'new_state',solution.zdetor.State, solution.classStringToURI)"
   ]
  },
  {
   "cell_type": "code",
   "execution_count": 23,
   "metadata": {},
   "outputs": [],
   "source": [
    "mappingToCreateTypeTriple(df_address, 'new_state',solution.zdetor.State, True, solution.classStringToURI)"
   ]
  },
  {
   "cell_type": "code",
   "execution_count": null,
   "metadata": {},
   "outputs": [],
   "source": []
  },
  {
   "cell_type": "code",
   "execution_count": null,
   "metadata": {},
   "outputs": [],
   "source": []
  },
  {
   "cell_type": "code",
   "execution_count": null,
   "metadata": {},
   "outputs": [],
   "source": []
  },
  {
   "cell_type": "code",
   "execution_count": null,
   "metadata": {},
   "outputs": [],
   "source": []
  },
  {
   "cell_type": "code",
   "execution_count": null,
   "metadata": {},
   "outputs": [],
   "source": []
  }
 ],
 "metadata": {
  "kernelspec": {
   "display_name": "Python 3",
   "language": "python",
   "name": "python3"
  },
  "language_info": {
   "codemirror_mode": {
    "name": "ipython",
    "version": 3
   },
   "file_extension": ".py",
   "mimetype": "text/x-python",
   "name": "python",
   "nbconvert_exporter": "python",
   "pygments_lexer": "ipython3",
   "version": "3.7.3"
  }
 },
 "nbformat": 4,
 "nbformat_minor": 2
}
