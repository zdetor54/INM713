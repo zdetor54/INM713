{
 "cells": [
  {
   "cell_type": "markdown",
   "metadata": {},
   "source": [
    "### Project: INM713-coursework\n",
    "**Author**: Zac Detorakis (zacharias.detorakis@city.ac.uk)\n",
    "\n",
    "**Version**: 1.0<br>\n",
    "**Date**: 15/03/2021"
   ]
  },
  {
   "cell_type": "code",
   "execution_count": 39,
   "metadata": {},
   "outputs": [],
   "source": [
    "# Import Libraries\n",
    "from rdflib import Graph\n",
    "from rdflib import URIRef, BNode, Literal\n",
    "from rdflib import Namespace\n",
    "from rdflib.namespace import OWL, RDF, RDFS, FOAF, XSD\n",
    "# from rdflib.util import guess_format\n",
    "import pandas as pd\n",
    "import math\n",
    "# # from stringcmp import isub\n",
    "# # from lookup import DBpediaLookup\n",
    "# import csv\n",
    "\n",
    "# import owlrl\n"
   ]
  },
  {
   "cell_type": "code",
   "execution_count": 9,
   "metadata": {},
   "outputs": [],
   "source": [
    "class FinalCoursework(object):\n",
    "    \"\"\"\n",
    "    This will contain the solution for the coursework for the SW&KGT\n",
    "    \"\"\"\n",
    "    \n",
    "    def __init__(self, input_csv):\n",
    "        \n",
    "        # The file containing the data to load in the KG\n",
    "        self.file = input_csv\n",
    "        \n",
    "        #Intialise the KG\n",
    "        self.g = Graph()\n",
    "        \n",
    "        #read the raw data into a dataframe\n",
    "        self.df = pd.read_csv(filepath_or_buffer = self.file, sep=',', quotechar='\"',escapechar=\"\\\\\")\n",
    "        \n",
    "if __name__ == '__main__':\n",
    "#     input_csv = \"INM713_coursework_data_pizza_8358_1_reduced - small.csv\"\n",
    "    input_csv = \"INM713_coursework_data_pizza_8358_1_reduced.csv\"\n",
    "    \n",
    "    solution = FinalCoursework(input_csv)\n",
    "    \n",
    "        "
   ]
  },
  {
   "cell_type": "markdown",
   "metadata": {},
   "source": [
    "First of we need to perform some exploratory data analysis before we start loading the data to ensure the data consistency and perhaps perform a bit of data cleansing.\n",
    "We will start with the address part as that is the easier one to profile.\n",
    "\n",
    "Given that the addresses are unique per restaurant and then repeated for all menu items of that restaurant we will get a subsection of the df to better assess the extent of problematic records that need fixing. As per our ontology, the address properties are:\n",
    "* address (i.e. representing the address line)\n",
    "* city\n",
    "* country\n",
    "* state and\n",
    "* postcode"
   ]
  },
  {
   "cell_type": "code",
   "execution_count": 33,
   "metadata": {},
   "outputs": [
    {
     "name": "stdout",
     "output_type": "stream",
     "text": [
      "There are a total of: 3510 restaurant/menu_items\n",
      "There are a total of: 991 restaurants\n"
     ]
    }
   ],
   "source": [
    "# Construct the address dataframe with the columns related to the restaurant addresses. \n",
    "# We'll keep the name column in there just for reference so we can count restaurant with problematic addresses\n",
    "\n",
    "df_address = solution.df[['name','address','city','country','state','postcode']]\n",
    "print(f\"There are a total of: {len(df_address)} restaurant/menu_items\")\n",
    "\n",
    "# remove duplicate rows\n",
    "df_address = df_address.drop_duplicates()\n",
    "print(f\"There are a total of: {len(df_address)} restaurants\")"
   ]
  },
  {
   "cell_type": "code",
   "execution_count": 35,
   "metadata": {},
   "outputs": [
    {
     "data": {
      "text/plain": [
       "US    991\n",
       "Name: country, dtype: int64"
      ]
     },
     "execution_count": 35,
     "metadata": {},
     "output_type": "execute_result"
    }
   ],
   "source": [
    "# Check the country column\n",
    "df_address['country'].value_counts()"
   ]
  },
  {
   "cell_type": "markdown",
   "metadata": {},
   "source": [
    "looks like the country colunn is the specific file is always populated with the country US and doesn't need any cleansing"
   ]
  },
  {
   "cell_type": "code",
   "execution_count": 42,
   "metadata": {},
   "outputs": [
    {
     "name": "stdout",
     "output_type": "stream",
     "text": [
      "There are 281 unique values for state\n",
      "There are 29.97% where the state is not 2 characters long\n",
      "There are 70.03% where the state is exactly 2 characters long\n"
     ]
    }
   ],
   "source": [
    "# Check the state column\n",
    "print(f'There are {len(df_address[\"state\"].unique())} unique values for state')\n",
    "print(f'There are {round((len(df_address[df_address[\"state\"].str.len()>2])/len(df_address))*100,2)}% where the state is not 2 characters long')\n",
    "print(f'There are {round((len(df_address[df_address[\"state\"].str.len()==2])/len(df_address))*100,2)}% where the state is exactly 2 characters long')"
   ]
  },
  {
   "cell_type": "markdown",
   "metadata": {},
   "source": [
    "The above results indicate that for 30% of restaurants we may need to fix the state column"
   ]
  },
  {
   "cell_type": "code",
   "execution_count": 43,
   "metadata": {},
   "outputs": [],
   "source": [
    "# https://solidproject.org/developers/vocabularies/well-known"
   ]
  },
  {
   "cell_type": "code",
   "execution_count": 44,
   "metadata": {},
   "outputs": [
    {
     "ename": "SyntaxError",
     "evalue": "invalid syntax (<ipython-input-44-4c6d0f15607c>, line 1)",
     "output_type": "error",
     "traceback": [
      "\u001b[1;36m  File \u001b[1;32m\"<ipython-input-44-4c6d0f15607c>\"\u001b[1;36m, line \u001b[1;32m1\u001b[0m\n\u001b[1;33m    PREFIX dbo: <http://dbpedia.org/ontology/>\u001b[0m\n\u001b[1;37m             ^\u001b[0m\n\u001b[1;31mSyntaxError\u001b[0m\u001b[1;31m:\u001b[0m invalid syntax\n"
     ]
    }
   ],
   "source": [
    "PREFIX dbo: <http://dbpedia.org/ontology/>\n",
    "PREFIX dbr: <http://dbpedia.org/resource/>\n",
    "\n",
    "SELECT ?country ?capital\n",
    "WHERE {\n",
    " ?x a dbo:Country.\n",
    " ?x dbo:longName ?country.\n",
    " ?x dbp:capital ?capital\n",
    "}"
   ]
  },
  {
   "cell_type": "code",
   "execution_count": 71,
   "metadata": {},
   "outputs": [],
   "source": [
    "g = Graph()\n",
    "\n",
    "qres = g.query(\n",
    "\"\"\"\n",
    "PREFIX dbo: <http://dbpedia.org/ontology/>\n",
    "PREFIX dbr: <http://dbpedia.org/resource/>\n",
    "\n",
    "SELECT ?x\n",
    "WHERE {\n",
    " ?x a dbo:City.\n",
    "}\n",
    "\"\"\")\n",
    "\n",
    "#Single row with one boolean vale\n",
    "for row in qres:\n",
    "    print(f\"{str(row.x)},\")"
   ]
  },
  {
   "cell_type": "code",
   "execution_count": 59,
   "metadata": {},
   "outputs": [],
   "source": [
    "from lookup import DBpediaLookup"
   ]
  },
  {
   "cell_type": "code",
   "execution_count": 64,
   "metadata": {},
   "outputs": [],
   "source": [
    "def getExternalKGURI(name):\n",
    "    '''\n",
    "    Approximate solution: We get the entity with highest lexical similarity\n",
    "    The use of context may be necessary in some cases        \n",
    "    '''\n",
    "    \n",
    "    dbpedia = DBpediaLookup()\n",
    "    entities = dbpedia.getKGEntities(name, 1)\n",
    "\n",
    "#     print(current_uri)\n",
    "    return entities[0].ident"
   ]
  },
  {
   "cell_type": "code",
   "execution_count": 72,
   "metadata": {},
   "outputs": [
    {
     "data": {
      "text/plain": [
       "'http://dbpedia.org/resource/Omaha,_Nebraska'"
      ]
     },
     "execution_count": 72,
     "metadata": {},
     "output_type": "execute_result"
    }
   ],
   "source": [
    "g = Graph()\n",
    "\n",
    "dpo = Namespace(\"http://dbpedia.org/resource/\")\n",
    "g.bind(\"dpo\", dpo)\n",
    "\n",
    "\n",
    "getExternalKGURI('Omaha')"
   ]
  },
  {
   "cell_type": "code",
   "execution_count": 68,
   "metadata": {},
   "outputs": [
    {
     "ename": "NameError",
     "evalue": "name 'KGEntity' is not defined",
     "output_type": "error",
     "traceback": [
      "\u001b[1;31m---------------------------------------------------------------------------\u001b[0m",
      "\u001b[1;31mNameError\u001b[0m                                 Traceback (most recent call last)",
      "\u001b[1;32m<ipython-input-68-8e089c358156>\u001b[0m in \u001b[0;36m<module>\u001b[1;34m\u001b[0m\n\u001b[1;32m----> 1\u001b[1;33m \u001b[0mkg_entity\u001b[0m \u001b[1;33m=\u001b[0m \u001b[0mKGEntity\u001b[0m\u001b[1;33m(\u001b[0m\u001b[1;33m)\u001b[0m\u001b[1;33m\u001b[0m\u001b[1;33m\u001b[0m\u001b[0m\n\u001b[0m",
      "\u001b[1;31mNameError\u001b[0m: name 'KGEntity' is not defined"
     ]
    }
   ],
   "source": [
    "kg_entity = KGEntity()"
   ]
  },
  {
   "cell_type": "code",
   "execution_count": null,
   "metadata": {},
   "outputs": [],
   "source": []
  }
 ],
 "metadata": {
  "kernelspec": {
   "display_name": "Python 3",
   "language": "python",
   "name": "python3"
  },
  "language_info": {
   "codemirror_mode": {
    "name": "ipython",
    "version": 3
   },
   "file_extension": ".py",
   "mimetype": "text/x-python",
   "name": "python",
   "nbconvert_exporter": "python",
   "pygments_lexer": "ipython3",
   "version": "3.7.3"
  }
 },
 "nbformat": 4,
 "nbformat_minor": 2
}
